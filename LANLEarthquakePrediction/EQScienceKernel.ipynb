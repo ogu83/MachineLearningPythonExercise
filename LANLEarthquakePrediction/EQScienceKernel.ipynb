{
 "cells": [
  {
   "cell_type": "code",
   "execution_count": 21,
   "metadata": {},
   "outputs": [],
   "source": [
    "import pandas as pd\n",
    "import numpy as np\n",
    "import os\n",
    "import pickle\n",
    "from tqdm import tqdm_notebook as tqdm\n",
    "\n",
    "from sklearn.linear_model import LinearRegression\n",
    "\n",
    "from scipy.signal import hilbert\n",
    "from scipy.signal import hann\n",
    "from scipy.signal import convolve\n",
    "from scipy import stats\n",
    "from scipy import integrate\n",
    "\n",
    "import tables as tb\n",
    "\n",
    "import matplotlib.pyplot as plt\n",
    "import matplotlib.mlab as mlab\n",
    "import matplotlib.gridspec as gridspec\n",
    "from matplotlib import style\n",
    "style.use('ggplot')\n",
    "\n",
    "DATA_PATH = \"D:\\\\LANLEarthquakeData\"\n",
    "TRAIN_DATA_PATH = f\"{DATA_PATH}\\\\train.csv\"\n",
    "TEST_SEG_PATH = f\"{DATA_PATH}\\\\test\"\n",
    "TRAIN_SEG_PATH = f\"{DATA_PATH}\\\\train\"\n",
    "SUBMISSON_PATH = f\"{DATA_PATH}\\\\sample_submission.csv\"\n",
    "TRAINING_DERIVED_ROW_COUNT = 150_000\n",
    "READ_WHOLE_TRAIN_DATA = True\n",
    "READ_WHOLE_TEST_DATA = True\n",
    "NP_DATA_PATH = f\"{DATA_PATH}\\\\np\"\n",
    "PICKLE_PATH = f\"{DATA_PATH}\\\\pickle\"\n",
    "\n",
    "TOTAL_ROW_COUNT = 629145480\n",
    "\n",
    "def integrate_cumtrapz(x, how='cumtrapz',i=0):\n",
    "    '''Numerically integrate the time series.\n",
    "    @param how: the method to use (trapz by default)\n",
    "    @return \n",
    "    Available methods:\n",
    "     * trapz - trapezoidal\n",
    "     * cumtrapz - cumulative trapezoidal\n",
    "     * simps - Simpson's rule\n",
    "     * romb - Romberger's rule     \n",
    "     '''\n",
    "    y=x\n",
    "    return integrate.cumtrapz(y,x,initial=i)"
   ]
  },
  {
   "cell_type": "code",
   "execution_count": 2,
   "metadata": {},
   "outputs": [
    {
     "name": "stdout",
     "output_type": "stream",
     "text": [
      "Wall time: 2min 20s\n"
     ]
    }
   ],
   "source": [
    "%%time\n",
    "df = pd.read_csv(TRAIN_DATA_PATH, dtype={'acoustic_data': np.int16, 'time_to_failure': np.float32})"
   ]
  },
  {
   "cell_type": "code",
   "execution_count": 3,
   "metadata": {},
   "outputs": [
    {
     "name": "stdout",
     "output_type": "stream",
     "text": [
      "4194\n",
      "Wall time: 2 ms\n"
     ]
    }
   ],
   "source": [
    "%%time\n",
    "#df = df.rename(columns={\"acoustic_data\": \"acc\", \"time_to_failure\": \"time\"})\n",
    "rows = TRAINING_DERIVED_ROW_COUNT\n",
    "segments = int(np.floor(df.shape[0] / rows))\n",
    "print(segments)"
   ]
  },
  {
   "cell_type": "code",
   "execution_count": 4,
   "metadata": {},
   "outputs": [
    {
     "data": {
      "application/vnd.jupyter.widget-view+json": {
       "model_id": "85245b225ed44c9a96f300782f1a58ca",
       "version_major": 2,
       "version_minor": 0
      },
      "text/plain": [
       "HBox(children=(IntProgress(value=0, max=4194), HTML(value='')))"
      ]
     },
     "metadata": {},
     "output_type": "display_data"
    },
    {
     "name": "stdout",
     "output_type": "stream",
     "text": [
      "\n",
      "Wall time: 1min 8s\n"
     ]
    }
   ],
   "source": [
    "%%time\n",
    "df_train = pd.DataFrame(index=range(segments), columns=['time','acc','vel','disp'])\n",
    "last_vel = 0\n",
    "last_disp = 0\n",
    "for segment in range(segments):\n",
    "    seg = df.iloc[segment*rows:segment*rows+rows]\n",
    "    \n",
    "    time = seg['time_to_failure'].values[-1]\n",
    "    df_train.loc[segment, 'time'] = time    \n",
    "    \n",
    "    acc = seg['acoustic_data'].values\n",
    "    df_train.loc[segment, 'acc'] = acc\n",
    "    \n",
    "    vel = integrate_cumtrapz(acc,last_vel)\n",
    "    last_vel = vel[-1:]\n",
    "    df_train.loc[segment, 'vel'] = vel\n",
    "        \n",
    "    disp = integrate_cumtrapz(vel,last_disp)    \n",
    "    last_disp = disp[-1:]\n",
    "    df_train.loc[segment, 'disp'] = disp"
   ]
  },
  {
   "cell_type": "code",
   "execution_count": null,
   "metadata": {},
   "outputs": [],
   "source": []
  },
  {
   "cell_type": "code",
   "execution_count": 6,
   "metadata": {},
   "outputs": [],
   "source": [
    "del df"
   ]
  },
  {
   "cell_type": "code",
   "execution_count": 7,
   "metadata": {},
   "outputs": [],
   "source": [
    "for i in range(0, df_train.shape[0], 1000):\n",
    "    df_chunk = df_train[i:i+1000]\n",
    "    df_chunk.to_pickle(f\"{PICKLE_PATH}\\\\Samples{i}.pickle\")"
   ]
  },
  {
   "cell_type": "code",
   "execution_count": 66,
   "metadata": {},
   "outputs": [
    {
     "data": {
      "text/html": [
       "<div>\n",
       "<style scoped>\n",
       "    .dataframe tbody tr th:only-of-type {\n",
       "        vertical-align: middle;\n",
       "    }\n",
       "\n",
       "    .dataframe tbody tr th {\n",
       "        vertical-align: top;\n",
       "    }\n",
       "\n",
       "    .dataframe thead th {\n",
       "        text-align: right;\n",
       "    }\n",
       "</style>\n",
       "<table border=\"1\" class=\"dataframe\">\n",
       "  <thead>\n",
       "    <tr style=\"text-align: right;\">\n",
       "      <th></th>\n",
       "      <th>time</th>\n",
       "      <th>acc</th>\n",
       "      <th>vel</th>\n",
       "      <th>disp</th>\n",
       "    </tr>\n",
       "  </thead>\n",
       "  <tbody>\n",
       "    <tr>\n",
       "      <th>0</th>\n",
       "      <td>1.4308</td>\n",
       "      <td>[12, 6, 8, 5, 8, 8, 9, 7, -5, 3, 5, 2, 2, 3, -...</td>\n",
       "      <td>[0.0, -54.0, -40.0, -59.5, -40.0, -40.0, -31.5...</td>\n",
       "      <td>[0.0, 1458.0, 800.0, 1770.125, 800.0, 800.0, 4...</td>\n",
       "    </tr>\n",
       "    <tr>\n",
       "      <th>1</th>\n",
       "      <td>1.3915</td>\n",
       "      <td>[5, 6, 8, 6, 3, -1, 5, 4, 4, 4, 6, 5, 5, 5, 6,...</td>\n",
       "      <td>[0.0, 5.5, 19.5, 5.5, -8.0, -12.0, 0.0, -4.5, ...</td>\n",
       "      <td>[0.0, 15.125, 190.125, 15.125, 32.0, 72.0, 0.0...</td>\n",
       "    </tr>\n",
       "    <tr>\n",
       "      <th>2</th>\n",
       "      <td>1.3532</td>\n",
       "      <td>[5, 5, 8, 9, 9, 10, 11, 12, 13, 5, 3, 7, 5, 3,...</td>\n",
       "      <td>[0.0, 0.0, 19.5, 28.0, 28.0, 37.5, 48.0, 59.5,...</td>\n",
       "      <td>[0.0, 0.0, 190.125, 392.0, 392.0, 703.125, 115...</td>\n",
       "    </tr>\n",
       "    <tr>\n",
       "      <th>3</th>\n",
       "      <td>1.3138</td>\n",
       "      <td>[5, -5, -4, 1, 3, 4, 6, 12, 15, 17, 14, 9, 6, ...</td>\n",
       "      <td>[0.0, 0.0, -4.5, -12.0, -8.0, -4.5, 5.5, 59.5,...</td>\n",
       "      <td>[0.0, 0.0, 10.125, 72.0, 32.0, 10.125, 15.125,...</td>\n",
       "    </tr>\n",
       "    <tr>\n",
       "      <th>4</th>\n",
       "      <td>1.2744</td>\n",
       "      <td>[12, 6, 4, -1, 0, 6, 7, 6, 2, -2, 0, 4, 1, 5, ...</td>\n",
       "      <td>[0.0, -54.0, -64.0, -71.5, -72.0, -54.0, -47.5...</td>\n",
       "      <td>[0.0, 1458.0, 2048.0, 2556.125, 2592.0, 1458.0...</td>\n",
       "    </tr>\n",
       "  </tbody>\n",
       "</table>\n",
       "</div>"
      ],
      "text/plain": [
       "     time                                                acc  \\\n",
       "0  1.4308  [12, 6, 8, 5, 8, 8, 9, 7, -5, 3, 5, 2, 2, 3, -...   \n",
       "1  1.3915  [5, 6, 8, 6, 3, -1, 5, 4, 4, 4, 6, 5, 5, 5, 6,...   \n",
       "2  1.3532  [5, 5, 8, 9, 9, 10, 11, 12, 13, 5, 3, 7, 5, 3,...   \n",
       "3  1.3138  [5, -5, -4, 1, 3, 4, 6, 12, 15, 17, 14, 9, 6, ...   \n",
       "4  1.2744  [12, 6, 4, -1, 0, 6, 7, 6, 2, -2, 0, 4, 1, 5, ...   \n",
       "\n",
       "                                                 vel  \\\n",
       "0  [0.0, -54.0, -40.0, -59.5, -40.0, -40.0, -31.5...   \n",
       "1  [0.0, 5.5, 19.5, 5.5, -8.0, -12.0, 0.0, -4.5, ...   \n",
       "2  [0.0, 0.0, 19.5, 28.0, 28.0, 37.5, 48.0, 59.5,...   \n",
       "3  [0.0, 0.0, -4.5, -12.0, -8.0, -4.5, 5.5, 59.5,...   \n",
       "4  [0.0, -54.0, -64.0, -71.5, -72.0, -54.0, -47.5...   \n",
       "\n",
       "                                                disp  \n",
       "0  [0.0, 1458.0, 800.0, 1770.125, 800.0, 800.0, 4...  \n",
       "1  [0.0, 15.125, 190.125, 15.125, 32.0, 72.0, 0.0...  \n",
       "2  [0.0, 0.0, 190.125, 392.0, 392.0, 703.125, 115...  \n",
       "3  [0.0, 0.0, 10.125, 72.0, 32.0, 10.125, 15.125,...  \n",
       "4  [0.0, 1458.0, 2048.0, 2556.125, 2592.0, 1458.0...  "
      ]
     },
     "execution_count": 66,
     "metadata": {},
     "output_type": "execute_result"
    }
   ],
   "source": [
    "df_train.head()"
   ]
  },
  {
   "cell_type": "code",
   "execution_count": 73,
   "metadata": {},
   "outputs": [
    {
     "data": {
      "text/plain": [
       "array([1.3914989], dtype=object)"
      ]
     },
     "execution_count": 73,
     "metadata": {},
     "output_type": "execute_result"
    }
   ],
   "source": []
  },
  {
   "cell_type": "code",
   "execution_count": 65,
   "metadata": {},
   "outputs": [
    {
     "data": {
      "image/png": "[encoded data removed]",
      "text/plain": [
       "<Figure size 432x288 with 2 Axes>"
      ]
     },
     "metadata": {},
     "output_type": "display_data"
    },
    {
     "data": {
      "image/png": "[encoded data removed]",
      "text/plain": [
       "<Figure size 432x288 with 2 Axes>"
      ]
     },
     "metadata": {},
     "output_type": "display_data"
    }
   ],
   "source": [
    "for i in range(0,2):\n",
    "    fig = plt.figure(constrained_layout=True)\n",
    "    gs = gridspec.GridSpec(1, 2, figure=fig)\n",
    "\n",
    "    ax = fig.add_subplot(gs[0, 0])\n",
    "    ax.plot(df_train[i:i+1][\"disp\"].values[0])\n",
    "    ax.set_ylabel('disp')\n",
    "\n",
    "    ax1 = fig.add_subplot(gs[0, 1])\n",
    "    ax1.plot(df_train[i:i+1][\"vel\"].values[0])\n",
    "    ax1.set_ylabel('velocity')\n",
    "\n",
    "    #ax2 = fig.add_subplot(gs[0, 2])\n",
    "    #ax2.plot(df_train[i:i+1][\"acc\"].values[0])\n",
    "    #ax2.set_ylabel('acc')\n",
    "\n",
    "    plt.title(f'{df_train[i:i+1][\"time\"].values[0]} sn')\n",
    "    plt.show()"
   ]
  },
  {
   "cell_type": "code",
   "execution_count": 149,
   "metadata": {},
   "outputs": [
    {
     "name": "stdout",
     "output_type": "stream",
     "text": [
      "Index(['disp_mean', 'disp_mean_mean_10', 'disp_mean_mean_30',\n",
      "       'disp_mean_mean_50', 'disp_mean_mean_100', 'disp_mean_mean_150',\n",
      "       'disp_mean_mean_300', 'disp_mean_mean_500', 'disp_mean_mean_1000',\n",
      "       'disp_mean_mean_1500',\n",
      "       ...\n",
      "       'vel_std_kurt_150', 'vel_std_kurt_300', 'vel_std_kurt_500',\n",
      "       'vel_std_kurt_1000', 'vel_std_kurt_1500', 'vel_std_kurt_3000',\n",
      "       'vel_std_kurt_10000', 'vel_std_kurt_15000', 'vel_std_kurt_30000',\n",
      "       'time'],\n",
      "      dtype='object', length=433)\n",
      "Wall time: 178 ms\n"
     ]
    }
   ],
   "source": [
    "%%time\n",
    "windows = [10, 30, 50, 100, 150, 300, 500, 1000, 1500, 3000, 10000, 15000, 30000]\n",
    "\n",
    "def get_column_names():\n",
    "    keys = list(['disp','vel'])\n",
    "    functions = list(['mean','median','max','std','var','sum','skew','kurt'])\n",
    "    window_keys = ['mean','std']\n",
    "    additional = []\n",
    "    columns=[]\n",
    "    for k in keys:\n",
    "        for f in functions:\n",
    "            columns.append(f\"{k}_{f}\")\n",
    "            for wk in window_keys:\n",
    "                for w in windows:                \n",
    "                    columns.append(f\"{k}_{wk}_{f}_{w}\")\n",
    "            \n",
    "    return columns\n",
    "    \n",
    "df_train_sum = pd.DataFrame(index=range(segments), columns=get_column_names())\n",
    "df_train_sum[\"time\"] = df_train[\"time\"]\n",
    "\n",
    "print((df_train_sum.columns))"
   ]
  },
  {
   "cell_type": "code",
   "execution_count": null,
   "metadata": {},
   "outputs": [],
   "source": [
    "for segment in range(segments):    \n",
    "    disp = df_train.loc[segment, 'disp']    \n",
    "    disp = pd.Series(disp)\n",
    "    df_train_sum.loc[segment,'disp_mean']=disp.mean()\n",
    "    df_train_sum.loc[segment,'disp_median']=disp.median()\n",
    "    df_train_sum.loc[segment,'disp_max']=disp.max()\n",
    "    df_train_sum.loc[segment,'disp_min']=disp.min()\n",
    "    df_train_sum.loc[segment,'disp_std']=disp.std()\n",
    "    df_train_sum.loc[segment,'disp_var']=disp.var()\n",
    "    df_train_sum.loc[segment,'disp_sum']=disp.sum()    \n",
    "    df_train_sum.loc[segment,'disp_skew']=disp.skew()\n",
    "    df_train_sum.loc[segment,'disp_kurt']=disp.kurt()\n",
    "    \n",
    "    vel = df_train.loc[segment, 'vel']    \n",
    "    vel = pd.Series(vel)\n",
    "    df_train_sum.loc[segment,'vel_mean']=vel.mean()\n",
    "    df_train_sum.loc[segment,'vel_median']=vel.median()\n",
    "    df_train_sum.loc[segment,'vel_max']=vel.max()\n",
    "    df_train_sum.loc[segment,'vel_min']=vel.min()\n",
    "    df_train_sum.loc[segment,'vel_std']=vel.std()\n",
    "    df_train_sum.loc[segment,'vel_var']=vel.var()\n",
    "    df_train_sum.loc[segment,'vel_sum']=vel.sum()    \n",
    "    df_train_sum.loc[segment,'vel_skew']=vel.skew()\n",
    "    df_train_sum.loc[segment,'vel_kurt']=vel.kurt()\n",
    "        \n",
    "    for w in windows:                \n",
    "        df_train_sum.loc[segment,f'disp_mean_mean_{w}'] = disp.rolling(window=w).mean().mean()\n",
    "        df_train_sum.loc[segment,f'disp_mean_median_{w}'] = disp.rolling(window=w).mean().median()\n",
    "        df_train_sum.loc[segment,f'disp_mean_max_{w}'] = disp.rolling(window=w).mean().max()\n",
    "        df_train_sum.loc[segment,f'disp_mean_min_{w}'] = disp.rolling(window=w).mean().min()\n",
    "        df_train_sum.loc[segment,f'disp_mean_std_{w}'] = disp.rolling(window=w).mean().std()\n",
    "        df_train_sum.loc[segment,f'disp_mean_var_{w}'] = disp.rolling(window=w).mean().var()\n",
    "        df_train_sum.loc[segment,f'disp_mean_sum_{w}'] = disp.rolling(window=w).mean().sum()\n",
    "        df_train_sum.loc[segment,f'disp_mean_skew_{w}'] = disp.rolling(window=w).mean().skew()\n",
    "        df_train_sum.loc[segment,f'disp_mean_kurt_{w}'] = disp.rolling(window=w).mean().kurt()\n",
    "        \n",
    "        df_train_sum.loc[segment,f'vel_std_mean_{w}'] = vel.rolling(window=w).std().mean()\n",
    "        df_train_sum.loc[segment,f'vel_std_median_{w}'] = vel.rolling(window=w).std().median()\n",
    "        df_train_sum.loc[segment,f'vel_std_max_{w}'] = vel.rolling(window=w).std().max()\n",
    "        df_train_sum.loc[segment,f'vel_std_min_{w}'] = vel.rolling(window=w).std().min()\n",
    "        df_train_sum.loc[segment,f'vel_std_std_{w}'] = vel.rolling(window=w).std().std()\n",
    "        df_train_sum.loc[segment,f'vel_std_var_{w}'] = vel.rolling(window=w).std().var()\n",
    "        df_train_sum.loc[segment,f'vel_std_sum_{w}'] = vel.rolling(window=w).std().sum()\n",
    "        df_train_sum.loc[segment,f'vel_std_skew_{w}'] = vel.rolling(window=w).std().skew()\n",
    "        df_train_sum.loc[segment,f'vel_std_kurt_{w}'] = vel.rolling(window=w).std().kurt()                \n",
    "            \n",
    "print(df_train_sum)\n",
    "df_train_sum.to_pickle(f\"{PICKLE_PATH}\\\\df_train_sum.pickle\")"
   ]
  },
  {
   "cell_type": "code",
   "execution_count": null,
   "metadata": {},
   "outputs": [],
   "source": [
    "df_train_sum.shape"
   ]
  },
  {
   "cell_type": "code",
   "execution_count": null,
   "metadata": {},
   "outputs": [],
   "source": []
  },
  {
   "cell_type": "code",
   "execution_count": null,
   "metadata": {},
   "outputs": [],
   "source": []
  }
 ],
 "metadata": {
  "kernelspec": {
   "display_name": "Python 3",
   "language": "python",
   "name": "python3"
  },
  "language_info": {
   "codemirror_mode": {
    "name": "ipython",
    "version": 3
   },
   "file_extension": ".py",
   "mimetype": "text/x-python",
   "name": "python",
   "nbconvert_exporter": "python",
   "pygments_lexer": "ipython3",
   "version": "3.6.0"
  }
 },
 "nbformat": 4,
 "nbformat_minor": 2
}
